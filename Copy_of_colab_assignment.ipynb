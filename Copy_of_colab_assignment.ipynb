{
  "nbformat": 4,
  "nbformat_minor": 0,
  "metadata": {
    "colab": {
      "name": "Copy of colab assignment.ipynb",
      "provenance": [],
      "authorship_tag": "ABX9TyMLKdt+AqxEoAetzNwJL+RO",
      "include_colab_link": true
    },
    "kernelspec": {
      "name": "python3",
      "display_name": "Python 3"
    },
    "language_info": {
      "name": "python"
    }
  },
  "cells": [
    {
      "cell_type": "markdown",
      "metadata": {
        "id": "view-in-github",
        "colab_type": "text"
      },
      "source": [
        "<a href=\"https://colab.research.google.com/github/ProJaye-2/Nkwachukwu-Nlemadim/blob/main/Copy_of_colab_assignment.ipynb\" target=\"_parent\"><img src=\"https://colab.research.google.com/assets/colab-badge.svg\" alt=\"Open In Colab\"/></a>"
      ]
    },
    {
      "cell_type": "code",
      "metadata": {
        "id": "U-DYAjoPfHhz",
        "colab": {
          "base_uri": "https://localhost:8080/"
        },
        "outputId": "49ec1a54-ef66-44bb-b75e-70f316129686"
      },
      "source": [
        "(3*4*5)"
      ],
      "execution_count": null,
      "outputs": [
        {
          "output_type": "execute_result",
          "data": {
            "text/plain": [
              "60"
            ]
          },
          "metadata": {},
          "execution_count": 2
        }
      ]
    },
    {
      "cell_type": "code",
      "metadata": {
        "colab": {
          "base_uri": "https://localhost:8080/"
        },
        "id": "yKhdVENsgXlL",
        "outputId": "2aab05b4-1546-4694-d927-f4799671f4bb"
      },
      "source": [
        "(16*3)"
      ],
      "execution_count": null,
      "outputs": [
        {
          "output_type": "execute_result",
          "data": {
            "text/plain": [
              "48"
            ]
          },
          "metadata": {},
          "execution_count": 6
        }
      ]
    },
    {
      "cell_type": "code",
      "metadata": {
        "colab": {
          "base_uri": "https://localhost:8080/"
        },
        "id": "57Id5VWXg20i",
        "outputId": "b360e70e-c799-4a55-f7e5-2bf3bd667605"
      },
      "source": [
        "(2+3*8-4)"
      ],
      "execution_count": null,
      "outputs": [
        {
          "output_type": "execute_result",
          "data": {
            "text/plain": [
              "22"
            ]
          },
          "metadata": {},
          "execution_count": 9
        }
      ]
    },
    {
      "cell_type": "code",
      "metadata": {
        "id": "P7cBSubyhS4w",
        "colab": {
          "base_uri": "https://localhost:8080/"
        },
        "outputId": "5a5aa61c-b3f7-44ae-ce81-0399ab45f79e"
      },
      "source": [
        "2+15-20*5"
      ],
      "execution_count": 1,
      "outputs": [
        {
          "output_type": "execute_result",
          "data": {
            "text/plain": [
              "-83"
            ]
          },
          "metadata": {},
          "execution_count": 1
        }
      ]
    },
    {
      "cell_type": "code",
      "metadata": {
        "id": "JsPST_7siwH1",
        "colab": {
          "base_uri": "https://localhost:8080/"
        },
        "outputId": "abb8ff94-5333-4593-ea4f-eae09ac8adca"
      },
      "source": [
        "(4)*(5)-3+5"
      ],
      "execution_count": 2,
      "outputs": [
        {
          "output_type": "execute_result",
          "data": {
            "text/plain": [
              "22"
            ]
          },
          "metadata": {},
          "execution_count": 2
        }
      ]
    },
    {
      "cell_type": "code",
      "metadata": {
        "id": "RalPrXmxPfxb"
      },
      "source": [
        ""
      ],
      "execution_count": null,
      "outputs": []
    }
  ]
}